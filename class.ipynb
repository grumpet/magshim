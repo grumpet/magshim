{
 "cells": [
  {
   "cell_type": "markdown",
   "id": "2680f3f4",
   "metadata": {},
   "source": [
    "#show examples by putty\n",
    "#show eamples by net cat\n",
    "#print a socket example for a client and server"
   ]
  },
  {
   "cell_type": "code",
   "execution_count": 2,
   "id": "1fc595d1",
   "metadata": {},
   "outputs": [
    {
     "name": "stdout",
     "output_type": "stream",
     "text": [
      "Connected to networks.cyber.org.il on port 8820\n",
      "Server: mip\n"
     ]
    }
   ],
   "source": [
    "#q1\n",
    "import socket\n",
    "DOMAIN = 'networks.cyber.org.il'\n",
    "PORT = 8820\n",
    "\n",
    "sock = socket.socket(socket.AF_INET, socket.SOCK_STREAM)\n",
    "\n",
    "server_address = (DOMAIN, PORT)\n",
    "sock.connect(server_address)\n",
    "print(f'Connected to {DOMAIN} on port {PORT}')\n",
    "\n",
    "sock.sendall(b'mip')\n",
    "\n",
    "server_message = sock.recv(1024).decode()\n",
    "print(f'Server: {server_message}')\n",
    "\n",
    "sock.close()\n"
   ]
  },
  {
   "cell_type": "code",
   "execution_count": 3,
   "id": "60454807",
   "metadata": {},
   "outputs": [
    {
     "name": "stdout",
     "output_type": "stream",
     "text": [
      "Server is running on ('', 8820)\n",
      "Connection from ('127.0.0.1', 64336) has been established.\n",
      "this is the client socket <socket.socket fd=684, family=2, type=1, proto=0, laddr=('127.0.0.1', 8820), raddr=('127.0.0.1', 64336)>\n",
      "Waiting for message...\n",
      "Received message: hjk\n",
      "Sent response: You said: hjk\n",
      "Server closed\n"
     ]
    }
   ],
   "source": [
    "import socket\n",
    "INTRO_MSG = \"You said: \"\n",
    "SERVER_ADDR = ('', 8820)\n",
    "\n",
    "\n",
    "with socket.socket(socket.AF_INET, socket.SOCK_STREAM) as sock:\n",
    "    sock.bind(SERVER_ADDR)\n",
    "    print(f\"Server is running on {SERVER_ADDR}\")\n",
    "    sock.listen(1)\n",
    "    client_socket, client_address = sock.accept()\n",
    "    print(f\"Connection from {client_address} has been established.\")\n",
    "    print(\"this is the client socket\", client_socket)\n",
    "    print(\"Waiting for message...\")\n",
    "    message = client_socket.recv(1024).decode()\n",
    "    print(f\"Received message: {message}\")\n",
    "    response = INTRO_MSG + message\n",
    "    client_socket.sendall(response.encode())\n",
    "    print(f\"Sent response: {response}\")\n",
    "    sock.close()\n",
    "    print(\"Server closed\")\n"
   ]
  },
  {
   "cell_type": "code",
   "execution_count": 4,
   "id": "b993a34d",
   "metadata": {},
   "outputs": [
    {
     "name": "stdout",
     "output_type": "stream",
     "text": [
      "Server is running on ('', 8820)\n",
      "Connection from ('192.168.30.246', 62144) has been established.\n",
      "this is the client socket <socket.socket fd=716, family=2, type=1, proto=0, laddr=('192.168.30.246', 8820), raddr=('192.168.30.246', 62144)>\n",
      "Waiting for message...\n",
      "RAND\n",
      "Sent response: Random number: 2\n",
      "Sent response: You said: RAND\n",
      "Waiting for message...\n",
      "\n",
      "Sent response: You said: \n",
      "Waiting for message...\n",
      "\n",
      "Sent response: You said: \n",
      "Waiting for message...\n",
      "\n",
      "Sent response: You said: \n",
      "Waiting for message...\n",
      "\n",
      "Sent response: You said: \n",
      "Waiting for message...\n",
      "TIME\n",
      "Sent response: Current server time: 2025-04-21 03:24:47\n",
      "Sent response: You said: TIME\n",
      "Waiting for message...\n",
      "\n",
      "Sent response: You said: \n",
      "Waiting for message...\n",
      "\n",
      "Sent response: You said: \n",
      "Waiting for message...\n",
      "\n",
      "Sent response: You said: \n",
      "Waiting for message...\n",
      "\n",
      "Sent response: You said: \n",
      "Waiting for message...\n",
      "\n",
      "Sent response: You said: \n",
      "Waiting for message...\n",
      "NAME\n",
      "Sent response: Server name: MyServer\n",
      "Sent response: You said: NAME\n",
      "Waiting for message...\n",
      "\n",
      "Sent response: You said: \n",
      "Waiting for message...\n",
      "\n",
      "Sent response: You said: \n",
      "Waiting for message...\n",
      "\n",
      "Sent response: You said: \n",
      "Waiting for message...\n",
      "\n",
      "Sent response: You said: \n",
      "Waiting for message...\n",
      "\n",
      "Sent response: You said: \n",
      "Waiting for message...\n"
     ]
    },
    {
     "ename": "ConnectionAbortedError",
     "evalue": "[WinError 10053] An established connection was aborted by the software in your host machine",
     "output_type": "error",
     "traceback": [
      "\u001b[31m---------------------------------------------------------------------------\u001b[39m",
      "\u001b[31mConnectionAbortedError\u001b[39m                    Traceback (most recent call last)",
      "\u001b[36mCell\u001b[39m\u001b[36m \u001b[39m\u001b[32mIn[4]\u001b[39m\u001b[32m, line 20\u001b[39m\n\u001b[32m     18\u001b[39m \u001b[38;5;28;01mwhile\u001b[39;00m FLAG:\n\u001b[32m     19\u001b[39m     \u001b[38;5;28mprint\u001b[39m(\u001b[33m\"\u001b[39m\u001b[33mWaiting for message...\u001b[39m\u001b[33m\"\u001b[39m)\n\u001b[32m---> \u001b[39m\u001b[32m20\u001b[39m     message = \u001b[43mclient_socket\u001b[49m\u001b[43m.\u001b[49m\u001b[43mrecv\u001b[49m\u001b[43m(\u001b[49m\u001b[32;43m1024\u001b[39;49m\u001b[43m)\u001b[49m.decode().strip()\n\u001b[32m     21\u001b[39m     \u001b[38;5;28mprint\u001b[39m(message)\n\u001b[32m     22\u001b[39m     \u001b[38;5;28;01mif\u001b[39;00m message == \u001b[33m'\u001b[39m\u001b[33mQUIT\u001b[39m\u001b[33m'\u001b[39m:\n",
      "\u001b[31mConnectionAbortedError\u001b[39m: [WinError 10053] An established connection was aborted by the software in your host machine"
     ]
    }
   ],
   "source": [
    "#q4\n",
    "import socket\n",
    "import time\n",
    "import random\n",
    "\n",
    "INTRO_MSG = \"You said: \"\n",
    "SERVER_ADDR = ('', 8820)\n",
    "FLAG = True\n",
    "\n",
    "\n",
    "with socket.socket(socket.AF_INET, socket.SOCK_STREAM) as sock:\n",
    "    sock.bind(SERVER_ADDR)\n",
    "    print(f\"Server is running on {SERVER_ADDR}\")\n",
    "    sock.listen(1)\n",
    "    client_socket, client_address = sock.accept()\n",
    "    print(f\"Connection from {client_address} has been established.\")\n",
    "    print(\"this is the client socket\", client_socket)\n",
    "    while FLAG:\n",
    "        print(\"Waiting for message...\")\n",
    "        message = client_socket.recv(1024).decode().strip()\n",
    "        print(message)\n",
    "        if message == 'QUIT':\n",
    "            print(\"Received QUIT command. Closing server.\")\n",
    "            client_socket.sendall(b\"Server is shutting down.\")\n",
    "            client_socket.close()\n",
    "            FLAG = False\n",
    "            break\n",
    "        elif message == 'TIME':\n",
    "            current_time = time.strftime(\"%Y-%m-%d %H:%M:%S\", time.localtime())\n",
    "            response = f\"Current server time: {current_time}\"\n",
    "            client_socket.sendall(response.encode())\n",
    "            print(f\"Sent response: {response}\")\n",
    "            \n",
    "        elif message == 'RAND':\n",
    "            random_number = random.randint(1, 10)\n",
    "            response = f\"Random number: {random_number}\"\n",
    "            client_socket.sendall(response.encode())\n",
    "            print(f\"Sent response: {response}\")\n",
    "        elif message == 'NAME':\n",
    "            response = \"Server name: MyServer\"\n",
    "            client_socket.sendall(response.encode())\n",
    "            print(f\"Sent response: {response}\")\n",
    "        response = INTRO_MSG + message\n",
    "        client_socket.sendall(response.encode())\n",
    "        print(f\"Sent response: {response}\")\n",
    "   \n"
   ]
  }
 ],
 "metadata": {
  "kernelspec": {
   "display_name": "Python 3",
   "language": "python",
   "name": "python3"
  },
  "language_info": {
   "codemirror_mode": {
    "name": "ipython",
    "version": 3
   },
   "file_extension": ".py",
   "mimetype": "text/x-python",
   "name": "python",
   "nbconvert_exporter": "python",
   "pygments_lexer": "ipython3",
   "version": "3.12.1"
  }
 },
 "nbformat": 4,
 "nbformat_minor": 5
}
